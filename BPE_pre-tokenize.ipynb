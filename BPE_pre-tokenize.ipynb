{
 "cells": [
  {
   "cell_type": "code",
   "execution_count": 1,
   "id": "e349d8ed",
   "metadata": {},
   "outputs": [],
   "source": [
    "import os\n",
    "from pathlib import Path\n",
    "import regex as re\n",
    "import json\n",
    "from tqdm import tqdm\n",
    "from concurrent.futures import ProcessPoolExecutor, as_completed\n",
    "from typing import Tuple, List, Iterable, BinaryIO\n",
    "from collections import Counter\n",
    "from bpe_tokenizer import BytePairEncodingTokenizer"
   ]
  },
  {
   "cell_type": "code",
   "execution_count": 2,
   "id": "8e11b6fe",
   "metadata": {},
   "outputs": [
    {
     "name": "stdout",
     "output_type": "stream",
     "text": [
      "Line 1001: One day, a big dog named Max saw a small cat named Lily on top of a tree. Lily was angry because she could not get down. Max wanted to help Lily, so he thought of a plan.\n",
      "Line 1002: Max said, \"Lily, I will join you on top of the tree and help you get down.\" Max climbed up the tree and slowly got closer to Lily. Lily was scared at first, but Max was kind and gentle.\n",
      "Line 1003: Max said, \"Hold on to me, Lily. I will take you down.\" Lily held on tight to Max, and they went down the tree together. Lily was happy and thanked Max for helping her. From that day on, Max and Lily became the best of friends.\n",
      "Line 1004: <|endoftext|>\n",
      "Line 1005: Once upon a time, there was a white shark. The white shark lived in the big sea. One day, the white shark saw a little boat. The little boat had a hole in it. The white shark wanted to help.\n",
      "Line 1006: The white shark swam to the boat. The white shark said, \"I can fix your boat.\" The man in the boat was scared. The man said, \"No, go away!\" The white shark was sad but still wanted to help.\n",
      "Line 1007: The white shark tried to fix the hole with its nose. But the boat broke more. The man fell into the water. The white shark was very sorry, but it was too late. The boat was gone and the man was sad.\n",
      "Line 1008: <|endoftext|>\n",
      "Line 1009: Once upon a time, there was a dependable dog named Spot. Spot loved to play with his best friend, a little girl named Lucy. One day, they were playing in the yard when they found a big pear tree.\n",
      "Line 1010: Lucy said, \"Look, Spot! A pear tree! Let's pick a pear!\" They picked the biggest pear they could reach. The pear was very big and very yummy-looking. Spot and Lucy wanted to share the pear with their friends, so they went to find them.\n",
      "Line 1011: They found their friends, a cat named Whiskers and a bird named Tweetie, playing nearby. Lucy said, \"We found a big pear! Let's all share it!\" Whiskers and Tweetie were happy to share the pear. They all took turns taking bites of the pear, and they all agreed that it was the best pear they had ever tasted.\n",
      "Line 1012: As they were eating, a squirrel came up to them and said, \"That pear belongs to me! I picked it and dropped it by accident.\" Lucy, Spot, Whiskers, and Tweetie felt bad for taking the squirrel's pear. They all said sorry to the squirrel.\n",
      "Line 1013: The squirrel said, \"It's okay, we can all share the pear.\" So, they all sat together and finished eating the big, yummy pear. They all became friends and played together every day under the pear tree.\n",
      "Line 1014: <|endoftext|>\n",
      "Line 1015: \n",
      "Line 1016: It was a cold winter day. The snow covered the ground and the tall trees.\n",
      "Line 1017: Jason, who was three years old, wanted to stay outside and play in the snow. He wrapped his warm coat closer to his body and built a snowman with his dad.\n",
      "Line 1018: \"Look daddy!\" he shouted, pointing at the snowman.\n",
      "Line 1019: Dad smiled. \"It looks great.\"\n",
      "Line 1020: Just then, Jason saw a small smoke coming out of a chimney of the nearest house. He said, \"Let's hope someone will give us hot chocolate.\"\n",
      "Line 1021: Dad smiled again. \"That would be nice wouldn't it?\"\n",
      "Line 1022: Jason smiled and nodded. \"Yes, please. I'm so weak from playing in the snow.\"\n",
      "Line 1023: But when they reached the house, nobody answered the door. Jason was disappointed.\n",
      "Line 1024: \"Let's hope someone else will help us,\" said Dad.\n",
      "Line 1025: Just then, an old man came out of a nearby house. He said, \"Why, hello there. Let's warm up with some hot chocolate!\"\n",
      "Line 1026: Jason smiled. He was very happy. Now he was hopeful that he could still get his hot chocolate!\n",
      "Line 1027: <|endoftext|>\n",
      "Line 1028: \n",
      "Line 1029: Once upon a time, there was a poor man called Joe. He had a mustache and was very nice. One day, Joe went to the park to meet a friend.\n",
      "Line 1030: When Joe got to the park, he saw a little girl. She was sitting on the swings, crying.\n",
      "Line 1031: Joe went over to the little girl and asked her why she was crying. The girl told Joe that she was sad because she didn't know her own name.\n",
      "Line 1032: Joe was very kind and gentle and said to the little girl, \"Don't worry. I will help you find your name.\"\n",
      "Line 1033: Joe and the little girl searched all around the park, but they couldn't find her name. Joe was getting tired and the little girl was starting to cry again.\n",
      "Line 1034: Then, suddenly, Joe remembered something. He put his hand on the little girl's head and said, \"I know your name! Your name is Julie!\"\n",
      "Line 1035: The little girl smiled and said, \"Thank you Joe for finding my name!\" Joe smiled back, patted her on the head and said, \"You're welcome\".\n",
      "Line 1036: <|endoftext|>\n",
      "Line 1037: \n",
      "Line 1038: \n",
      "Line 1039: Ben and Lily liked to design things with their blocks. They made houses, cars, towers and animals. They had fun playing with their designs and making noises.\n",
      "Line 1040: One day, they wanted to design a big castle. They used all their blocks and worked hard. They made walls, doors, windows and a flag. They were proud of their castle and wanted to show it to their mom.\n",
      "Line 1041: But when they went to look for their mom, they saw a young boy in their room. He was their cousin, Tom. He had come to visit with his mom. He was bored and saw the blocks. He did not know that Ben and Lily had designed a castle. He thought they were just blocks. He knocked down the castle and threw the blocks around. He laughed and said, \"This is fun!\"\n",
      "Line 1042: Ben and Lily came back and saw what Tom had done. They were very sad and angry. They shouted, \"Tom, you are bad! You broke our castle! We worked hard to design it! Go away!\"\n",
      "Line 1043: Tom did not care. He said, \"I don't care. They are just blocks. You can make another castle. I want to play with them. Give them to me!\"\n",
      "Line 1044: He tried to grab the blocks from Ben and Lily. They did not want to share. They pushed him away. They started to fight. They hit, kicked and bit each other. They cried and screamed.\n",
      "Line 1045: Their mom heard the noise and came to see what was wrong. She saw the mess and the fight. She was very upset and disappointed. She said, \"Stop it, all of you! You are being naughty and rude! You are not playing nicely! You are making me unhappy!\"\n",
      "Line 1046: She took away the blocks and put them in a box. She said, \"You cannot play with the blocks anymore. You have to go to your rooms and think about what you did. You have to say sorry to each other and to me. You have to learn to share and respect each other's designs.\"\n",
      "Line 1047: She sent them to their rooms. They felt uncomfortable and ashamed. They did not want to say sorry. They did not want to share. They did not want to design anything anymore. They had lost their fun and their castle. They had a bad day.\n",
      "Line 1048: <|endoftext|>\n",
      "Line 1049: \n",
      "Line 1050: Once upon a time, there was a strong lion. He had a problem. He wanted to build a big tall house in his jungle, but he was stuck. He didn't know how to solve it.\n"
     ]
    }
   ],
   "source": [
    "data_path = \"/scratch/shayan/Projects/LLMfromScratch/data/TinyStoriesV2-GPT4-train.txt\"\n",
    "\n",
    "with open(data_path, \"r\") as f:\n",
    "    for i, line in enumerate(f):\n",
    "        if i < 1000:\n",
    "            continue\n",
    "        if i >= 1050:\n",
    "            break\n",
    "        print(f\"Line {i+1}: {line.strip()}\")"
   ]
  },
  {
   "cell_type": "code",
   "execution_count": 13,
   "id": "75a304a8",
   "metadata": {},
   "outputs": [
    {
     "data": {
      "text/plain": [
       "2226845268"
      ]
     },
     "execution_count": 13,
     "metadata": {},
     "output_type": "execute_result"
    }
   ],
   "source": [
    "# loading the data\n",
    "with open(data_path, \"r\") as f:\n",
    "    data = f.read()\n",
    "\n",
    "len(data)"
   ]
  },
  {
   "cell_type": "code",
   "execution_count": 14,
   "id": "e18a297a",
   "metadata": {},
   "outputs": [],
   "source": [
    "# pre-tokenize the data regex-based GPT-2 style \n",
    "from tqdm import tqdm\n",
    "\n",
    "PAT = r\"\"\"'(?:[sdmt]|ll|ve|re)| ?\\p{L}+| ?\\p{N}+| ?[^\\s\\p{L}\\p{N}]+|\\s+(?!\\S)|\\s+\"\"\"\n",
    "TOKEN_BYTES = b\"<|endoftext|>\"\n",
    "\n",
    "# chunk_size = 1000000\n",
    "# tokens = []\n",
    "\n",
    "# for i in tqdm(range(0, len(data), chunk_size), desc=\"pre-tokenizing the vocabulary\"):\n",
    "#     chunk = data[i:i+chunk_size]\n",
    "#     tokens.extend(re.findall(PAT, chunk))"
   ]
  },
  {
   "cell_type": "code",
   "execution_count": null,
   "id": "fe12225d",
   "metadata": {},
   "outputs": [],
   "source": [
    "def save_bpe(vocab, merges, output_dir, data_name):\n",
    "    output_dir = Path(output_dir)\n",
    "    output_dir.mkdir(parents=True, exist_ok=True)\n",
    "\n",
    "    if isinstance(vocab, dict):\n",
    "        vocab_json = vocab\n",
    "    else:\n",
    "        raise TypeError(\"Vocabulary must be a dict of token->id\")\n",
    "    \n",
    "    with (output_dir/f\"{data_name}_vocab.json\").open(\"w\", encoding=\"utf-8\") as f:\n",
    "        json.dump(vocab_json, f, ensure_ascii=False, indent=2)\n",
    "\n",
    "    merges_path = output_dir / f\"{data_name}_merges.txt\"\n",
    "    with merges_path.open(\"w\", encoding=\"utf-8\") as f:\n",
    "        for a, b in merges:\n",
    "            f.write(f\"{a} {b}\\n\")\n",
    "\n",
    "def train_bpe_tinystories(data_path, vocab_size=10000, special_tokens=[\"<|endoftext|>\"], out_dir=\"tokenizer\"):\n",
    "    bpe = BytePairEncodingTokenizer(data_path)\n",
    "    vocabulary, merges = bpe.train_bpe(data_path, vocab_size=vocab_size, special_tokens=[\"<|endoftext|>\"])\n",
    "    save_bpe(vocabulary, merges, out_dir)"
   ]
  },
  {
   "cell_type": "code",
   "execution_count": 10,
   "id": "b022e77f",
   "metadata": {},
   "outputs": [
    {
     "name": "stdout",
     "output_type": "stream",
     "text": [
      "Vocabulary Length: 257\n"
     ]
    },
    {
     "name": "stderr",
     "output_type": "stream",
     "text": [
      "tokenizing chunks: 100%|██████████| 24/24 [00:26<00:00,  1.08s/it]\n",
      "Training BPE...: 100%|██████████| 9743/9743 [34:15<00:00,  4.74it/s, last merge: 10 chars]\n"
     ]
    }
   ],
   "source": [
    "train_bpe_tinystories(data_path, vocab_size=10000)"
   ]
  },
  {
   "cell_type": "code",
   "execution_count": 3,
   "id": "1f34979e",
   "metadata": {},
   "outputs": [
    {
     "name": "stdout",
     "output_type": "stream",
     "text": [
      "[1531, 431, 259, 2569, 387, 420, 2330, 1003, 2020, 377, 1553, 370, 259, 374, 81, 70, 266, 1343, 940, 282, 47, 309, 283, 378, 2929, 266, 613, 432, 263, 7278, 844, 116]\n"
     ]
    }
   ],
   "source": [
    "with open(\"tokenizer/vocab.json\", \"r\") as f:\n",
    "    vocab = json.load(f)\n",
    "with open(\"tokenizer/merges.txt\", \"r\") as f:\n",
    "    merges = f.read()\n",
    "\n",
    "tokenizer = BytePairEncodingTokenizer.from_files(vocab_path=\"tokenizer/vocab.json\", merges_path=\"tokenizer/merges.txt\")\n",
    "\n",
    "text = \"This is a test for an interesting implementation of a BPE tokenizer. it was very exciting to learn all the detials\"\n",
    "\n",
    "ids = tokenizer.encode(text)\n",
    "print(ids)\n"
   ]
  },
  {
   "cell_type": "code",
   "execution_count": 4,
   "id": "d0cda26a",
   "metadata": {},
   "outputs": [],
   "source": [
    "tokenizer = BytePairEncodingTokenizer.from_files(vocab_path=\"tokenizer/vocab.json\", merges_path=\"tokenizer/merges.txt\")\n",
    "\n",
    "roundtrip = tokenizer.decode(tokenizer.encode(\"hello world!\"))\n",
    "assert roundtrip == \"hello world!\""
   ]
  },
  {
   "cell_type": "code",
   "execution_count": 1,
   "id": "e02dd086",
   "metadata": {},
   "outputs": [],
   "source": [
    "import torch\n",
    "from einops import rearrange, einsum"
   ]
  },
  {
   "cell_type": "code",
   "execution_count": 9,
   "id": "083ffe60",
   "metadata": {},
   "outputs": [
    {
     "name": "stdout",
     "output_type": "stream",
     "text": [
      "torch.Size([10])\n",
      "torch.Size([1, 10, 1, 1, 1])\n",
      "torch.Size([64, 1, 128, 128, 3])\n"
     ]
    },
    {
     "data": {
      "text/plain": [
       "torch.Size([64, 10, 128, 128, 3])"
      ]
     },
     "execution_count": 9,
     "metadata": {},
     "output_type": "execute_result"
    }
   ],
   "source": [
    "images = torch.randn(64, 128, 128, 3)\n",
    "dim_by = torch.linspace(start=0.0, end=1.0, steps=10)\n",
    "print(dim_by.shape)\n",
    "\n",
    "dim_value = rearrange(dim_by, \"dim_value -> 1 dim_value 1 1 1\")\n",
    "print(dim_value.shape)\n",
    "\n",
    "images_rearr = rearrange(images, \"b height width channel -> b 1 height width channel\")\n",
    "print(images_rearr.shape)\n",
    "\n",
    "dimmed_images = images_rearr * dim_value\n",
    "dimmed_images.shape"
   ]
  },
  {
   "cell_type": "code",
   "execution_count": 10,
   "id": "73b67c4f",
   "metadata": {},
   "outputs": [
    {
     "data": {
      "text/plain": [
       "torch.Size([64, 10, 128, 128, 3])"
      ]
     },
     "execution_count": 10,
     "metadata": {},
     "output_type": "execute_result"
    }
   ],
   "source": [
    "dimmed_images = einsum(\n",
    "    images, dim_by,\n",
    "    \"batch height width channel, dim_value -> batch dim_value height width channel\"\n",
    ")\n",
    "\n",
    "dimmed_images.shape"
   ]
  },
  {
   "cell_type": "code",
   "execution_count": 20,
   "id": "073d8075",
   "metadata": {},
   "outputs": [
    {
     "name": "stdout",
     "output_type": "stream",
     "text": [
      "torch.Size([64, 32, 32, 3])\n",
      "torch.Size([64, 3, 1024])\n",
      "torch.Size([64, 3, 1024])\n",
      "torch.Size([64, 32, 32, 3])\n"
     ]
    }
   ],
   "source": [
    "channels_last = torch.rand(64, 32, 32, 3)\n",
    "B = torch.rand(32*32, 32*32)\n",
    "print(channels_last.shape)\n",
    "\n",
    "height = width = 32\n",
    "\n",
    "channels_first = rearrange(channels_last, \"batch height width channel -> batch channel (height width)\")\n",
    "print(channels_first.shape)\n",
    "\n",
    "channels_first_transformed = einsum(\n",
    "    channels_first, B,\n",
    "    \"batch channel pixel_in, pixel_out pixel_in -> batch channel pixel_out\"\n",
    ")\n",
    "print(channels_first_transformed.shape)\n",
    "\n",
    "channels_last_transformed = rearrange(channels_first_transformed, \n",
    "                                      \"batch channel (height width) -> batch height width channel\",\n",
    "                                      height=height, width=width)\n",
    "print(channels_last_transformed.shape)\n",
    "\n",
    "\n",
    "x= rearrange(channels_first_transformed,\n",
    "\"batch channel (height width) -> batch height width channel\",\n",
    "height=height, width=width\n",
    ")\n",
    "\n",
    "assert x.shape == channels_last_transformed.shape"
   ]
  },
  {
   "cell_type": "code",
   "execution_count": 103,
   "id": "d148d7ea",
   "metadata": {},
   "outputs": [],
   "source": [
    "# implement a the linear module\n",
    "\n",
    "import torch.nn as nn\n",
    "from math import sqrt\n",
    "\n",
    "class Linear(nn.Module):\n",
    "    def __init__(self, in_features, out_features, device=None, dtype=None):     \n",
    "        super().__init__()   \n",
    "        \n",
    "        \n",
    "        self.weights = nn.Parameter(torch.empty(out_features, in_features, dtype=dtype, device=device))\n",
    "        std = sqrt(2 / (in_features + out_features))\n",
    "        nn.init.trunc_normal_(self.weights, mean=0.0, std=std, a=-3*std, b=3*std)\n",
    "\n",
    "    def forward(self, x: torch.Tensor) -> torch.Tensor:\n",
    "        return einsum(\n",
    "            x, self.weights,\n",
    "            \"... d_in, d_out d_in -> ... d_out\"\n",
    "        )"
   ]
  },
  {
   "cell_type": "code",
   "execution_count": 104,
   "id": "3e6c568f",
   "metadata": {},
   "outputs": [
    {
     "name": "stdout",
     "output_type": "stream",
     "text": [
      "torch.Size([64, 256, 10])\n"
     ]
    },
    {
     "data": {
      "text/plain": [
       "torch.Size([64, 256, 128])"
      ]
     },
     "execution_count": 104,
     "metadata": {},
     "output_type": "execute_result"
    }
   ],
   "source": [
    "head = Linear(10, 128)\n",
    "\n",
    "x = torch.rand(64, 256, 10) # (batch, seq, h)\n",
    "print(x.shape)\n",
    "\n",
    "head.forward(x).shape # (batch, seq, h_out)"
   ]
  },
  {
   "cell_type": "code",
   "execution_count": null,
   "id": "bd97f232",
   "metadata": {},
   "outputs": [],
   "source": [
    "from einops import einsum\n",
    "\n",
    "class RMSNorm(nn.Module):\n",
    "    def __init__(self, d_model: int, eps: float = 1e-5, device=None, dtype=None):\n",
    "        super().__init__()\n",
    "        self.dtype = dtype\n",
    "        self.d_model = d_model\n",
    "        self.eps = eps\n",
    "        gain_tensor = torch.ones(d_model, device=device, dtype=dtype)\n",
    "        self.gain = nn.Parameter(gain_tensor)\n",
    "\n",
    "    def forward(self, x: torch.Tensor) -> torch.Tensor:\n",
    "        in_dtype = x.dtype\n",
    "        x = x.to(torch.float32)\n",
    "        mean_sq = einsum(x**2, \"... d_model -> ...\") / self.d_model\n",
    "        rms_x = torch.sqrt(mean_sq + self.eps)\n",
    "        result = einsum((x / rms_x), self.gain, \"... d_model, d_model -> ... d_model\")\n",
    "        result = result.to(in_dtype)\n",
    "\n",
    "        return result\n"
   ]
  },
  {
   "cell_type": "code",
   "execution_count": 71,
   "id": "3b610c66",
   "metadata": {},
   "outputs": [
    {
     "data": {
      "text/plain": [
       "tensor([0, 0, 1])"
      ]
     },
     "execution_count": 71,
     "metadata": {},
     "output_type": "execute_result"
    }
   ],
   "source": [
    "import math \n",
    "x = torch.tensor([4, 16, 25])\n",
    "\n",
    "rms = RMSNorm(3)\n",
    "\n",
    "rms.forward(x)"
   ]
  },
  {
   "cell_type": "code",
   "execution_count": 42,
   "id": "1ebf4f60",
   "metadata": {},
   "outputs": [
    {
     "data": {
      "text/plain": [
       "tensor(272)"
      ]
     },
     "execution_count": 42,
     "metadata": {},
     "output_type": "execute_result"
    }
   ],
   "source": [
    "x = torch.randint(10, (6,))\n",
    "torch.sum(x ** 2)"
   ]
  },
  {
   "cell_type": "code",
   "execution_count": 57,
   "id": "9d1814be",
   "metadata": {},
   "outputs": [
    {
     "data": {
      "text/plain": [
       "(tensor([[[0.4136, 0.7776, 0.5524, 0.2028],\n",
       "          [0.2229, 0.4884, 0.2291, 0.1290],\n",
       "          [0.8178, 0.8522, 0.9098, 0.5847],\n",
       "          [0.6860, 0.0350, 0.5284, 0.8094]]]),\n",
       " tensor([0.7616, 0.9247, 0.8006, 0.1996]))"
      ]
     },
     "execution_count": 57,
     "metadata": {},
     "output_type": "execute_result"
    }
   ],
   "source": [
    "x = torch.rand(1, 4, 4)\n",
    "\n",
    "g = torch.rand(4)\n",
    "x, g\n"
   ]
  },
  {
   "cell_type": "code",
   "execution_count": 61,
   "id": "053cea78",
   "metadata": {},
   "outputs": [
    {
     "data": {
      "text/plain": [
       "tensor([[[0.3150, 0.7190, 0.4422, 0.0405],\n",
       "         [0.1698, 0.4516, 0.1834, 0.0258],\n",
       "         [0.6229, 0.7880, 0.7284, 0.1167],\n",
       "         [0.5225, 0.0324, 0.4230, 0.1616]]])"
      ]
     },
     "execution_count": 61,
     "metadata": {},
     "output_type": "execute_result"
    }
   ],
   "source": [
    "x * g"
   ]
  },
  {
   "cell_type": "code",
   "execution_count": 62,
   "id": "35e19945",
   "metadata": {},
   "outputs": [
    {
     "data": {
      "text/plain": [
       "tensor([[[0.3150, 0.7190, 0.4422, 0.0405],\n",
       "         [0.1698, 0.4516, 0.1834, 0.0258],\n",
       "         [0.6229, 0.7880, 0.7284, 0.1167],\n",
       "         [0.5225, 0.0324, 0.4230, 0.1616]]])"
      ]
     },
     "execution_count": 62,
     "metadata": {},
     "output_type": "execute_result"
    }
   ],
   "source": [
    "from einops import einsum\n",
    "\n",
    "einsum(x, g, \"... d_model, d_model -> ... d_model\")"
   ]
  },
  {
   "cell_type": "code",
   "execution_count": 95,
   "id": "42e2db70",
   "metadata": {},
   "outputs": [
    {
     "ename": "NotImplementedError",
     "evalue": "Singleton () axes are not yet supported in einsum.",
     "output_type": "error",
     "traceback": [
      "\u001b[0;31m---------------------------------------------------------------------------\u001b[0m",
      "\u001b[0;31mNotImplementedError\u001b[0m                       Traceback (most recent call last)",
      "Cell \u001b[0;32mIn[95], line 2\u001b[0m\n\u001b[1;32m      1\u001b[0m x \u001b[38;5;241m=\u001b[39m torch\u001b[38;5;241m.\u001b[39mrandint(\u001b[38;5;241m0\u001b[39m, \u001b[38;5;241m10\u001b[39m, (\u001b[38;5;241m16\u001b[39m,\u001b[38;5;241m4\u001b[39m,\u001b[38;5;241m4\u001b[39m))\n\u001b[0;32m----> 2\u001b[0m \u001b[43meinsum\u001b[49m\u001b[43m(\u001b[49m\u001b[43mx\u001b[49m\u001b[43m,\u001b[49m\u001b[43m \u001b[49m\u001b[38;5;124;43m\"\u001b[39;49m\u001b[38;5;124;43m... d_model-> ... 1\u001b[39;49m\u001b[38;5;124;43m\"\u001b[39;49m\u001b[43m)\u001b[49m\u001b[38;5;241m.\u001b[39mshape\n",
      "File \u001b[0;32m~/miniconda3/envs/llm_env/lib/python3.10/site-packages/einops/einops.py:915\u001b[0m, in \u001b[0;36meinsum\u001b[0;34m(*tensors_and_pattern)\u001b[0m\n\u001b[1;32m    911\u001b[0m     \u001b[38;5;28;01mraise\u001b[39;00m \u001b[38;5;167;01mValueError\u001b[39;00m(\n\u001b[1;32m    912\u001b[0m         \u001b[38;5;124m\"\u001b[39m\u001b[38;5;124mThe last argument passed to `einops.einsum` must be a string, representing the einsum pattern.\u001b[39m\u001b[38;5;124m\"\u001b[39m\n\u001b[1;32m    913\u001b[0m     )\n\u001b[1;32m    914\u001b[0m tensors \u001b[38;5;241m=\u001b[39m tensors_and_pattern[:\u001b[38;5;241m-\u001b[39m\u001b[38;5;241m1\u001b[39m]\n\u001b[0;32m--> 915\u001b[0m pattern \u001b[38;5;241m=\u001b[39m \u001b[43m_compactify_pattern_for_einsum\u001b[49m\u001b[43m(\u001b[49m\u001b[43mpattern\u001b[49m\u001b[43m)\u001b[49m\n\u001b[1;32m    916\u001b[0m \u001b[38;5;28;01mreturn\u001b[39;00m get_backend(tensors[\u001b[38;5;241m0\u001b[39m])\u001b[38;5;241m.\u001b[39meinsum(pattern, \u001b[38;5;241m*\u001b[39mtensors)\n",
      "File \u001b[0;32m~/miniconda3/envs/llm_env/lib/python3.10/site-packages/einops/einops.py:814\u001b[0m, in \u001b[0;36m_compactify_pattern_for_einsum\u001b[0;34m(pattern)\u001b[0m\n\u001b[1;32m    811\u001b[0m     compact_pattern \u001b[38;5;241m+\u001b[39m\u001b[38;5;241m=\u001b[39m \u001b[38;5;124m\"\u001b[39m\u001b[38;5;124m...\u001b[39m\u001b[38;5;124m\"\u001b[39m\n\u001b[1;32m    812\u001b[0m     \u001b[38;5;28;01mcontinue\u001b[39;00m\n\u001b[0;32m--> 814\u001b[0m \u001b[43m_validate_einsum_axis_name\u001b[49m\u001b[43m(\u001b[49m\u001b[43mraw_axis_name\u001b[49m\u001b[43m)\u001b[49m\n\u001b[1;32m    815\u001b[0m axis_name \u001b[38;5;241m=\u001b[39m raw_axis_name[\u001b[38;5;241m0\u001b[39m]\n\u001b[1;32m    817\u001b[0m \u001b[38;5;28;01mif\u001b[39;00m axis_name \u001b[38;5;129;01mnot\u001b[39;00m \u001b[38;5;129;01min\u001b[39;00m axis_name_mapping:\n",
      "File \u001b[0;32m~/miniconda3/envs/llm_env/lib/python3.10/site-packages/einops/einops.py:757\u001b[0m, in \u001b[0;36m_validate_einsum_axis_name\u001b[0;34m(axis_name)\u001b[0m\n\u001b[1;32m    755\u001b[0m \u001b[38;5;28;01mdef\u001b[39;00m\u001b[38;5;250m \u001b[39m\u001b[38;5;21m_validate_einsum_axis_name\u001b[39m(axis_name):\n\u001b[1;32m    756\u001b[0m     \u001b[38;5;28;01mif\u001b[39;00m \u001b[38;5;28mlen\u001b[39m(axis_name) \u001b[38;5;241m==\u001b[39m \u001b[38;5;241m0\u001b[39m:\n\u001b[0;32m--> 757\u001b[0m         \u001b[38;5;28;01mraise\u001b[39;00m \u001b[38;5;167;01mNotImplementedError\u001b[39;00m(\u001b[38;5;124m\"\u001b[39m\u001b[38;5;124mSingleton () axes are not yet supported in einsum.\u001b[39m\u001b[38;5;124m\"\u001b[39m)\n\u001b[1;32m    758\u001b[0m     \u001b[38;5;28;01mif\u001b[39;00m \u001b[38;5;28mlen\u001b[39m(axis_name) \u001b[38;5;241m>\u001b[39m \u001b[38;5;241m1\u001b[39m:\n\u001b[1;32m    759\u001b[0m         \u001b[38;5;28;01mraise\u001b[39;00m \u001b[38;5;167;01mNotImplementedError\u001b[39;00m(\u001b[38;5;124m\"\u001b[39m\u001b[38;5;124mShape rearrangement is not yet supported in einsum.\u001b[39m\u001b[38;5;124m\"\u001b[39m)\n",
      "\u001b[0;31mNotImplementedError\u001b[0m: Singleton () axes are not yet supported in einsum."
     ]
    }
   ],
   "source": [
    "x = torch.randint(0, 10, (16,4,4))\n",
    "einsum(x, \"... d_model-> ... 1\").shape"
   ]
  },
  {
   "cell_type": "code",
   "execution_count": 92,
   "id": "00ec38d2",
   "metadata": {},
   "outputs": [
    {
     "data": {
      "text/plain": [
       "tensor([[13, 14, 28, 25],\n",
       "        [10, 21, 19,  9],\n",
       "        [17, 32,  9, 30],\n",
       "        [16, 21, 18,  8],\n",
       "        [19, 19,  8, 15],\n",
       "        [15, 18, 20, 24],\n",
       "        [27, 15, 22, 23],\n",
       "        [18, 14, 25, 12],\n",
       "        [13,  7, 13, 18],\n",
       "        [ 7, 10, 16,  8],\n",
       "        [18, 10,  5, 30],\n",
       "        [ 8,  9, 16,  5],\n",
       "        [10, 18, 23, 15],\n",
       "        [13, 23, 25,  4],\n",
       "        [22, 17, 18, 22],\n",
       "        [22, 16, 19, 17]])"
      ]
     },
     "execution_count": 92,
     "metadata": {},
     "output_type": "execute_result"
    }
   ],
   "source": [
    "einsum(x, \"... d_model-> ...\")"
   ]
  },
  {
   "cell_type": "code",
   "execution_count": null,
   "id": "0464cf8a",
   "metadata": {},
   "outputs": [],
   "source": []
  }
 ],
 "metadata": {
  "kernelspec": {
   "display_name": "llm_env",
   "language": "python",
   "name": "python3"
  },
  "language_info": {
   "codemirror_mode": {
    "name": "ipython",
    "version": 3
   },
   "file_extension": ".py",
   "mimetype": "text/x-python",
   "name": "python",
   "nbconvert_exporter": "python",
   "pygments_lexer": "ipython3",
   "version": "3.10.18"
  }
 },
 "nbformat": 4,
 "nbformat_minor": 5
}
